{
 "cells": [
  {
   "cell_type": "code",
   "execution_count": 1,
   "metadata": {},
   "outputs": [
    {
     "ename": "ERROR",
     "evalue": "Error in paste(\"Level\", levels, sep = \" \"): cannot coerce type 'closure' to vector of type 'character'\n",
     "output_type": "error",
     "traceback": [
      "Error in paste(\"Level\", levels, sep = \" \"): cannot coerce type 'closure' to vector of type 'character'\nTraceback:\n",
      "1. scale_fill_manual(name = \"ILI Activity Level\", values = heat_colors, \n .     labels = paste(\"Level\", levels, sep = \" \"))",
      "2. manual_scale(\"fill\", values, ...)",
      "3. discrete_scale(aesthetic, \"manual\", pal, ...)",
      "4. check_breaks_labels(breaks, labels)",
      "5. paste(\"Level\", levels, sep = \" \")"
     ]
    }
   ],
   "source": [
    "#References\n",
    "#1. http://rpubs.com/jdlecy/making_maps_in_r\n",
    "\n",
    "library(maps)\n",
    "library(mapproj)\n",
    "library(ggplot2)\n",
    "library(RColorBrewer)\n",
    "\n",
    "#Read the CSV file\n",
    "dat <- read.csv(\"twitter_data/HeatMap.csv\")\n",
    "\n",
    "#Map the color bucket ready\n",
    "heat_colors <- brewer.pal(9, name=\"RdYlGn\")\n",
    "\n",
    "#Extract level number from the level. Example Level 10 will be \"10\"\n",
    "dat$level <- as.numeric( substr( dat$ACTIVITY.LEVEL, 6, 8 ) )\n",
    "\n",
    "#Sort the levels\n",
    "all_levels <- sort(unique(dat$level),decreasing = TRUE)\n",
    "\n",
    "#Map colors to the levels\n",
    "level_color <- data.frame(level=rev(all_levels), heat_colors=heat_colors)\n",
    "\n",
    "#Merge colors to the data\n",
    "dat <- merge(level_color, dat, by=\"level\")\n",
    "\n",
    "#Merge data with the state data\n",
    "all_states <- ggplot2::map_data('state')\n",
    "dat$region <- tolower(dat$STATENAME)\n",
    "\n",
    "Total <- merge(all_states, dat, by=\"region\")\n",
    "\n",
    "#Plot the graph\n",
    "ggplot(data=Total, aes(x=long, y=lat, group=group)) +\n",
    "  geom_polygon(aes(fill=heat_colors), color=\"black\") +\n",
    "  scale_x_continuous(breaks = NULL) + \n",
    "  scale_y_continuous(breaks = NULL) +\n",
    "  labs(x = \"\", y = \"\") +\n",
    "  labs(title = \"2017-18 Influenza Season Week 4 Jan 27, 2018\") +\n",
    "  theme(plot.title = element_text(hjust = 0.5)) +\n",
    "  theme(legend.position=c(\"0.9\", \"0.2\")) +\n",
    "  scale_fill_manual(name = \"ILI Activity Level\", values=heat_colors, labels = paste(\"Level\",levels,sep=\" \"))"
   ]
  }
 ],
 "metadata": {
  "kernelspec": {
   "display_name": "R",
   "language": "R",
   "name": "ir"
  },
  "language_info": {
   "codemirror_mode": "r",
   "file_extension": ".r",
   "mimetype": "text/x-r-source",
   "name": "R",
   "pygments_lexer": "r",
   "version": "3.4.3"
  }
 },
 "nbformat": 4,
 "nbformat_minor": 2
}
