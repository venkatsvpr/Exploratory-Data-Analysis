{
 "cells": [
  {
   "cell_type": "code",
   "execution_count": 21,
   "metadata": {},
   "outputs": [
    {
     "name": "stdout",
     "output_type": "stream",
     "text": [
      "[1] \"Using direct authentication\"\n"
     ]
    }
   ],
   "source": [
    "#install.packages(\"twitteR\")\n",
    "#install.packages(\"Rcurl\")\n",
    "#intsall.packges(\"httr\")\n",
    "\n",
    "library(twitteR)\n",
    "setup_twitter_oauth(\"bPRs2D7HZ22fXvM3Xzv35lSVi\",\"ftgBcTCApW29ME0nzJLPJk5tiWq2eNnJ8lZ3O5lTgocLHHJ25E\",\"68721578-Gj4P77LfZMm3QvDEH0zNJJB6hUFS34dFf6SPvLnpG\",\"TWFkLamXiiQ6d8zHKOIzE6xStz1yDHPNDFHBaY2qnCPSj\")"
   ]
  },
  {
   "cell_type": "code",
   "execution_count": 26,
   "metadata": {},
   "outputs": [
    {
     "name": "stderr",
     "output_type": "stream",
     "text": [
      "Warning message in doRppAPICall(\"search/tweets\", n, params = params, retryOnRateLimit = retryOnRateLimit, :\n",
      "\"5 tweets were requested but the API can only return 0\""
     ]
    },
    {
     "data": {
      "text/html": [
       "<ol>\n",
       "</ol>\n"
      ],
      "text/latex": [
       "\\begin{enumerate}\n",
       "\\end{enumerate}\n"
      ],
      "text/markdown": [
       "\n",
       "\n"
      ],
      "text/plain": [
       "list()"
      ]
     },
     "metadata": {},
     "output_type": "display_data"
    }
   ],
   "source": [
    "tweets <- searchTwitter('flu',n=5, since=\"2018-02-01\", until=\"2018-02-06\")\n",
    "tweets\n"
   ]
  }
 ],
 "metadata": {
  "kernelspec": {
   "display_name": "R",
   "language": "R",
   "name": "ir"
  },
  "language_info": {
   "codemirror_mode": "r",
   "file_extension": ".r",
   "mimetype": "text/x-r-source",
   "name": "R",
   "pygments_lexer": "r",
   "version": "3.4.3"
  }
 },
 "nbformat": 4,
 "nbformat_minor": 2
}
