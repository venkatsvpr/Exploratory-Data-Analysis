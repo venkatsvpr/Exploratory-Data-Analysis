{
 "cells": [
  {
   "cell_type": "code",
   "execution_count": 7,
   "metadata": {},
   "outputs": [
    {
     "name": "stderr",
     "output_type": "stream",
     "text": [
      "Installing package into 'C:/Users/krish/OneDrive/Documents/R/win-library/3.4'\n",
      "(as 'lib' is unspecified)\n"
     ]
    },
    {
     "name": "stdout",
     "output_type": "stream",
     "text": [
      "package 'twitteR' successfully unpacked and MD5 sums checked\n",
      "\n",
      "The downloaded binary packages are in\n",
      "\tC:\\Users\\krish\\AppData\\Local\\Temp\\Rtmp2BNcyV\\downloaded_packages\n"
     ]
    },
    {
     "name": "stderr",
     "output_type": "stream",
     "text": [
      "Installing package into 'C:/Users/krish/OneDrive/Documents/R/win-library/3.4'\n",
      "(as 'lib' is unspecified)\n"
     ]
    },
    {
     "name": "stdout",
     "output_type": "stream",
     "text": [
      "package 'RCurl' successfully unpacked and MD5 sums checked\n",
      "\n",
      "The downloaded binary packages are in\n",
      "\tC:\\Users\\krish\\AppData\\Local\\Temp\\Rtmp2BNcyV\\downloaded_packages\n"
     ]
    },
    {
     "name": "stderr",
     "output_type": "stream",
     "text": [
      "Installing package into 'C:/Users/krish/OneDrive/Documents/R/win-library/3.4'\n",
      "(as 'lib' is unspecified)\n"
     ]
    },
    {
     "name": "stdout",
     "output_type": "stream",
     "text": [
      "package 'httr' successfully unpacked and MD5 sums checked\n",
      "\n",
      "The downloaded binary packages are in\n",
      "\tC:\\Users\\krish\\AppData\\Local\\Temp\\Rtmp2BNcyV\\downloaded_packages\n",
      "[1] \"Using direct authentication\"\n"
     ]
    }
   ],
   "source": [
    "install.packages(\"twitteR\")\n",
    "install.packages(\"RCurl\")\n",
    "install.packages(\"httr\")\n",
    "\n",
    "library(twitteR)\n",
    "setup_twitter_oauth(\"bPRs2D7HZ22fXvM3Xzv35lSVi\",\"ftgBcTCApW29ME0nzJLPJk5tiWq2eNnJ8lZ3O5lTgocLHHJ25E\",\"68721578-Gj4P77LfZMm3QvDEH0zNJJB6hUFS34dFf6SPvLnpG\",\"TWFkLamXiiQ6d8zHKOIzE6xStz1yDHPNDFHBaY2qnCPSj\")"
   ]
  },
  {
   "cell_type": "code",
   "execution_count": null,
   "metadata": {},
   "outputs": [],
   "source": [
    "#tweets<-searchTwitter('flu', n=10000)\n",
    "#new_tweets <-(strip_retweets(tweets,strip_manual=TRUE,strip_mt=TRUE))\n",
    "#data_frame<-twListToDF(new_tweets)\n",
    "#write.csv(data_frame,\"twitter_data/flu_10k.csv\")\n",
    "\n",
    "tweets<-searchTwitter('flu', n=100000)\n",
    "new_tweets <-(strip_retweets(tweets,strip_manual=TRUE,strip_mt=TRUE))\n",
    "data_frame<-twListToDF(new_tweets)\n",
    "write.csv(data_frame,\"twitter_data/flu_100k.csv\")"
   ]
  }
 ],
 "metadata": {
  "kernelspec": {
   "display_name": "R",
   "language": "R",
   "name": "ir"
  },
  "language_info": {
   "codemirror_mode": "r",
   "file_extension": ".r",
   "mimetype": "text/x-r-source",
   "name": "R",
   "pygments_lexer": "r",
   "version": "3.4.3"
  }
 },
 "nbformat": 4,
 "nbformat_minor": 2
}
