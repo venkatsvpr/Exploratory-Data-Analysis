{
 "cells": [
  {
   "cell_type": "markdown",
   "metadata": {},
   "source": [
    "#### Venkata Krishnan Anantha Raman"
   ]
  },
  {
   "cell_type": "markdown",
   "metadata": {},
   "source": [
    "#### Pratibha Arjun Barsale"
   ]
  },
  {
   "cell_type": "code",
   "execution_count": null,
   "metadata": {},
   "outputs": [],
   "source": [
    "References:\n",
    "# https://www.rdocumentation.org/packages/base/versions/3.4.3/topics/row.names\n",
    "#https://cran.r-project.org/web/packages/twitteR/twitteR.pdf\n",
    "#\n",
    "#\n",
    "#install.packages(\"twitteR\")\n",
    "#install.packages(\"RCurl\")\n",
    "install.packages(\"httr\")\n",
    "install.packages(\"rtweet\")\n",
    "#library(twitteR)\n",
    "\n",
    "# initially collected but not used.. rtweet is better\n",
    "#tweets<-searchTwitter('flu', n=10000)\n",
    "#new_tweets <-(strip_retweets(tweets,strip_manual=TRUE,strip_mt=TRUE))\n",
    "#data_frame<-twListToDF(new_tweets)\n",
    "#write.csv(data_frame,\"twitter_data/flu_10k.csv\")\n",
    "#done\n",
    "\n",
    "library(rtweet)\n",
    "library(twitteR)\n",
    "#venkat credential\n",
    "twitter_token <- create_token(app = \"Flu-DIC\",\n",
    "  consumer_key = \"xgvjoIF559swyiqYbI8vHFIgj\",\n",
    "  consumer_secret = \"FQNVuBaV6wcuwL237056KCUrMVF8mvivmFZHL8qVYitqbozvPU\")\n",
    "\n",
    "tweets <- search_tweets(q = \"flu\", n = 15000, token = twitter_token, geocode = lookup_coords(\"usa\"))\n",
    "save_as_csv(tweets,\"twitter_data/rtweet_flu_10k.csv\")"
   ]
  },
  {
   "cell_type": "code",
   "execution_count": null,
   "metadata": {},
   "outputs": [],
   "source": [
    "#Process 5k tweets\n",
    "library(ggmap)\n",
    "#tweetcsv<-read.csv(\"twitter_data/rtweet_flu_5k.users.csv\")\n",
    "#data  <- subset(tweetcsv, location != \"NA\")\n",
    "#x <- geocode(as.character(data$location), override_limit = TRUE, source = c(\"google\",\"dsk\"))\n",
    "#data_frame <- data.frame(x)\n",
    "#write.csv(data_frame,\"twitter_data/user_lat_long_5kusers_march_1.csv\")\n",
    "\n",
    "\n",
    "#done on  march 2\n",
    "#tweetcsv<-read.csv(\"twitter_data/rtweet_flu_10k.users.csv\")\n",
    "#data2  <- subset(tweetcsv, location != \"NA\")\n",
    "#data <- data2[1:2500,]\n",
    "#x <- geocode(as.character(data$location), override_limit = TRUE, source = c(\"google\",\"dsk\"))\n",
    "#data_frame <- data.frame(x)\n",
    "#write.csv(data_frame,\"twitter_data/user_lat_long_10kusers_march_2.csv\")\n",
    "\n",
    "tweetcsv<-read.csv(\"twitter_data/rtweet_flu_2.5.csv\")\n",
    "data2  <- subset(tweetcsv, location != \"NA\")\n",
    "data <- data2[1:2500,]\n",
    "x <- geocode(as.character(data$location), output=\"more\",override_limit = TRUE, source = c(\"google\",\"dsk\"))\n",
    "data_frame <- data.frame(x)\n",
    "write.csv(data_frame,\"twitter_data/user_lat_long_10kusers_march_2.csv\")"
   ]
  },
  {
   "cell_type": "code",
   "execution_count": null,
   "metadata": {},
   "outputs": [],
   "source": [
    "#done on  march 2\n",
    "library(ggmap)\n",
    "library(ggplot2)\n",
    "tweetcsv<-read.csv(\"twitter_data/rtweet_flu_10k.users.csv\")\n",
    "data2  <- subset(tweetcsv, (location != \"NA\"))\n",
    "data3  <- subset(data2, (location != \"\"))\n",
    "data4  <- subset(data3, (location !=\" \"))\n",
    "data <-data4[5000:7315,]\n",
    "dim(data)\n",
    "x <- geocode(as.character(data$location),output=\"more\", override_limit=FALSE, source = c(\"google\",\"dsk\"))\n",
    "data_frame <- data.frame(x)\n",
    "write.csv(data_frame,\"twitter_data/user_lat_long_10kusers_march_4d.csv\")\n",
    "head (x[1:5,])"
   ]
  },
  {
   "cell_type": "code",
   "execution_count": null,
   "metadata": {},
   "outputs": [],
   "source": [
    "library(ggplot2)\n",
    "library(ggmap)\n",
    "\n",
    "data_part1<-read.csv(\"twitter_data/user_lat_long_2kusers_march_1.csv\")\n",
    "data_part2<-read.csv(\"twitter_data/user_lat_long_10kusers_march_2a.csv\")\n",
    "data_part3<-read.csv(\"twitter_data/user_lat_long_10kusers_march_3.csv\")\n",
    "data_part4<-read.csv(\"twitter_data/user_lat_long_10kusers_march_4b.csv\")\n",
    "\n",
    "lat_long_data <- rbind(data_part1, data_part2)\n",
    "lat_long_data <- rbind(lat_long_data, data_part3)\n",
    "lat_long_data <- rbind(lat_long_data, data_part4)\n",
    "\n",
    "dim(lat_long_data)\n",
    "filtered <- subset(lat_long_data, lon != \"NA\" & lat != \"NA\")\n",
    "dim(filtered)\n",
    "\n",
    "## syntax example - https://stackoverflow.com/questions/37117472/loop-for-reverse-geocoding-in-r\n",
    "lat <- filtered[1:200,]$lat\n",
    "lon <- filtered[1:200,]$lon\n",
    "clean_latlon_data  <- data.frame(lat,lon)\n",
    "\n",
    "res <- mapply(FUN = function(lon, lat) { \n",
    "  revgeocode(c(lon, lat), output = \"more\") \n",
    "  }, \n",
    "  clean_latlon_data$lon, clean_latlon_data$lat)"
   ]
  },
  {
   "cell_type": "code",
   "execution_count": null,
   "metadata": {},
   "outputs": [],
   "source": [
    "lat <- filtered[1:200,]$lat\n",
    "lon <- filtered[1:200,]$lon\n",
    "clean_latlon_data  <- data.frame(lat,lon)\n",
    "\n",
    "res <- mapply(FUN = function(lon, lat) { \n",
    "  revgeocode(c(lon, lat), output = \"more\") \n",
    "  }, \n",
    "  clean_latlon_data$lon, clean_latlon_data$lat)"
   ]
  },
  {
   "cell_type": "code",
   "execution_count": null,
   "metadata": {},
   "outputs": [],
   "source": [
    "lat <- filtered[201:500,]$lat\n",
    "lon <- filtered[201:500,]$lon\n",
    "clean_latlon_data2  <- data.frame(lat,lon)\n",
    "\n",
    "res2 <- mapply(FUN = function(lon, lat) { \n",
    "  revgeocode(c(lon, lat), output = \"more\") \n",
    "  }, \n",
    "  clean_latlon_data2$lon, clean_latlon_data2$lat)"
   ]
  },
  {
   "cell_type": "code",
   "execution_count": null,
   "metadata": {
    "scrolled": true
   },
   "outputs": [],
   "source": [
    "head(res[1:5,])\n",
    "data_frame <- data.frame(x)\n",
    "\n",
    "#write.csv(res,\"twitter_data/twitter_1_200.csv\")\n",
    "#write.csv(res2,\"twitter_data/twitter_2_300.csv\")\n",
    "lat <- filtered[501:1000,]$lat\n",
    "lon <- filtered[501:1000,]$lon\n",
    "clean_latlon_data3 <- data.frame(lat,lon)\n",
    "\n",
    "res3 <- mapply(FUN = function(lon, lat) { \n",
    "  revgeocode(c(lon, lat), output = \"more\") \n",
    "  }, \n",
    "  clean_latlon_data3$lon, clean_latlon_data3$lat)\n",
    "           \n"
   ]
  },
  {
   "cell_type": "code",
   "execution_count": null,
   "metadata": {},
   "outputs": [],
   "source": [
    "tweetdata <- read.csv(\"twitter_data/rtweet_flu_2.5k.users.csv\")\n",
    "data1 <- subset(tweetdata,location != \"NA\")\n",
    "data2 <- subset(data1, location != \"\")\n",
    "data3 <- subset(data2, location != \" \")\n",
    "\n",
    "retval  <- apply (data3, 1, function(x) {\n",
    "    rec_geo_data <- geocode(c(x[\"location\"]),output=\"more\",override_limit = FALSE, source = c(\"google\",\"dsk\"))\n",
    "    if (is.recursive(rec_geo_data)) {\n",
    "        geo_one_record <- geo_infromation$administrative_area_level_1\n",
    "        write.table(geo_one_record, file=\"twitter_data/twitter_3_1k.csv\", sep=\",\",append=TRUE,quota=FALSE, col.names =FALSE,row.names = FALSE)\n",
    "    }\n",
    "})"
   ]
  },
  {
   "cell_type": "code",
   "execution_count": 1,
   "metadata": {},
   "outputs": [
    {
     "data": {},
     "metadata": {},
     "output_type": "display_data"
    },
    {
     "data": {
      "image/png": "[encoded data removed]",
      "text/plain": [
       "plot without title"
      ]
     },
     "metadata": {},
     "output_type": "display_data"
    }
   ],
   "source": [
    "library(maps)\n",
    "library(mapproj)\n",
    "library(ggplot2)\n",
    "library(RColorBrewer)\n",
    "\n",
    "\n",
    "#Read the CSVs\n",
    "part1 <-read.csv(\"twitter_data/twitter_1_200.csv\")\n",
    "part2 <-read.csv(\"twitter_data/twitter_2_300.csv\")\n",
    "part3 <-read.csv(\"twitter_data/twitter_2_500.csv\")\n",
    "part4 <- read.csv(\"twitter_data/twitter_3.csv\")\n",
    "\n",
    "\n",
    "#Process the CSVs to get the frequency per state\n",
    "df1 <- data.frame(part1)\n",
    "df2 <- data.frame(part2)\n",
    "df3 <- data.frame(part3)\n",
    "df4 <- data.frame(part4[\"region\"])\n",
    "\n",
    "state1 <- df1[ , grepl( \"administrative_area_level_1\" , names(df1))]\n",
    "state2 <- df2[ , grepl( \"administrative_area_level_1\" , names(df2))]\n",
    "state3 <- df3[ , grepl( \"administrative_area_level_1\" , names(df3))]\n",
    "\n",
    "state_data1 <- rbind(t(state1), t(state2))\n",
    "state_data <- rbind(state_data1, t(state3))\n",
    "\n",
    "colnames(state_data)[1] <- \"region\"\n",
    "\n",
    "state_data_final <- rbind(state_data,df4)\n",
    "\n",
    "state_data_final$region <- tolower(state_data_final$region)\n",
    "\n",
    "freq_temp = table(state_data_final)\n",
    "state_freq = as.data.frame(freq_temp)\n",
    "\n",
    "names(state_freq)[1] = 'region'\n",
    "\n",
    "#Get the state data\n",
    "all_states <- ggplot2::map_data('state')\n",
    "\n",
    "#get the frequency per state\n",
    "all_states$tweet_freq <- state_freq$Freq[match(all_states$region,state_freq$region)]\n",
    "\n",
    "#Plot the map\n",
    "map <- ggplot(all_states, aes(x=long, y=lat,fill=tweet_freq,group=group)) + geom_polygon(color=\"black\")\n",
    "\n",
    "map + scale_fill_gradient(name=\"Flu\",low='white', high='red') +\n",
    "  labs(title = \"Twitter Flu Analysis\") +\n",
    "  theme(plot.title = element_text(hjust = 0.5)) +\n",
    "  theme(legend.position=c(\"0.9\", \"0.2\"))"
   ]
  }
 ],
 "metadata": {
  "kernelspec": {
   "display_name": "R",
   "language": "R",
   "name": "ir"
  },
  "language_info": {
   "codemirror_mode": "r",
   "file_extension": ".r",
   "mimetype": "text/x-r-source",
   "name": "R",
   "pygments_lexer": "r",
   "version": "3.4.3"
  }
 },
 "nbformat": 4,
 "nbformat_minor": 2
}
